{
 "cells": [
  {
   "cell_type": "code",
   "execution_count": 10,
   "metadata": {},
   "outputs": [],
   "source": [
    "import pandas as pd\n",
    "import numpy as np\n",
    "import datetime, warnings, scipy"
   ]
  },
  {
   "cell_type": "code",
   "execution_count": 2,
   "metadata": {
    "collapsed": true
   },
   "outputs": [],
   "source": [
    "df1 = pd.read_csv(filepath_or_buffer = '../data/2008.csv')"
   ]
  },
  {
   "cell_type": "code",
   "execution_count": 3,
   "metadata": {},
   "outputs": [
    {
     "data": {
      "text/plain": [
       "0          1955\n",
       "1           735\n",
       "2           620\n",
       "3           930\n",
       "4          1755\n",
       "5          1915\n",
       "6          1830\n",
       "7          1040\n",
       "8           615\n",
       "9          1620\n",
       "10          700\n",
       "11         1510\n",
       "12         1430\n",
       "13          715\n",
       "14         1700\n",
       "15         1020\n",
       "16         1425\n",
       "17          745\n",
       "18         1255\n",
       "19         1325\n",
       "20          705\n",
       "21         1625\n",
       "22         1840\n",
       "23         1030\n",
       "24          800\n",
       "25         1455\n",
       "26         1255\n",
       "27         1925\n",
       "28          635\n",
       "29          730\n",
       "           ... \n",
       "7009698    1635\n",
       "7009699    1221\n",
       "7009700    1845\n",
       "7009701    1500\n",
       "7009702    1522\n",
       "7009703    1910\n",
       "7009704    1445\n",
       "7009705     830\n",
       "7009706    1440\n",
       "7009707    1755\n",
       "7009708     710\n",
       "7009709    1520\n",
       "7009710    1220\n",
       "7009711    1041\n",
       "7009712     843\n",
       "7009713     815\n",
       "7009714     545\n",
       "7009715     850\n",
       "7009716     936\n",
       "7009717     600\n",
       "7009718     847\n",
       "7009719     640\n",
       "7009720     800\n",
       "7009721     615\n",
       "7009722     750\n",
       "7009723     959\n",
       "7009724     835\n",
       "7009725     700\n",
       "7009726    1240\n",
       "7009727    1103\n",
       "Name: CRSDepTime, Length: 7009728, dtype: int64"
      ]
     },
     "execution_count": 3,
     "metadata": {},
     "output_type": "execute_result"
    }
   ],
   "source": [
    "df1.loc[:, \"CRSDepTime\"]"
   ]
  },
  {
   "cell_type": "code",
   "execution_count": 5,
   "metadata": {
    "collapsed": true
   },
   "outputs": [],
   "source": [
    "#Convert the HHMM format to HH:MM format\n",
    "def format_hour(hm):\n",
    "    if pd.isnull(hm):\n",
    "        return np.nan\n",
    "    else:\n",
    "        if hm == 2400: hm = 0\n",
    "        hm = \"{0:04d}\".format(int(hm))\n",
    "        newHM = datetime.time(int(hm[0:2]), int(hm[2:4]))\n",
    "        return newHM"
   ]
  },
  {
   "cell_type": "code",
   "execution_count": 11,
   "metadata": {},
   "outputs": [],
   "source": [
    "df1['CRSDepTime'] = df1['CRSDepTime'].apply(format_hour)"
   ]
  },
  {
   "cell_type": "code",
   "execution_count": 12,
   "metadata": {},
   "outputs": [
    {
     "data": {
      "text/plain": [
       "0          19:55:00\n",
       "1          07:35:00\n",
       "2          06:20:00\n",
       "3          09:30:00\n",
       "4          17:55:00\n",
       "5          19:15:00\n",
       "6          18:30:00\n",
       "7          10:40:00\n",
       "8          06:15:00\n",
       "9          16:20:00\n",
       "10         07:00:00\n",
       "11         15:10:00\n",
       "12         14:30:00\n",
       "13         07:15:00\n",
       "14         17:00:00\n",
       "15         10:20:00\n",
       "16         14:25:00\n",
       "17         07:45:00\n",
       "18         12:55:00\n",
       "19         13:25:00\n",
       "20         07:05:00\n",
       "21         16:25:00\n",
       "22         18:40:00\n",
       "23         10:30:00\n",
       "24         08:00:00\n",
       "25         14:55:00\n",
       "26         12:55:00\n",
       "27         19:25:00\n",
       "28         06:35:00\n",
       "29         07:30:00\n",
       "             ...   \n",
       "7009698    16:35:00\n",
       "7009699    12:21:00\n",
       "7009700    18:45:00\n",
       "7009701    15:00:00\n",
       "7009702    15:22:00\n",
       "7009703    19:10:00\n",
       "7009704    14:45:00\n",
       "7009705    08:30:00\n",
       "7009706    14:40:00\n",
       "7009707    17:55:00\n",
       "7009708    07:10:00\n",
       "7009709    15:20:00\n",
       "7009710    12:20:00\n",
       "7009711    10:41:00\n",
       "7009712    08:43:00\n",
       "7009713    08:15:00\n",
       "7009714    05:45:00\n",
       "7009715    08:50:00\n",
       "7009716    09:36:00\n",
       "7009717    06:00:00\n",
       "7009718    08:47:00\n",
       "7009719    06:40:00\n",
       "7009720    08:00:00\n",
       "7009721    06:15:00\n",
       "7009722    07:50:00\n",
       "7009723    09:59:00\n",
       "7009724    08:35:00\n",
       "7009725    07:00:00\n",
       "7009726    12:40:00\n",
       "7009727    11:03:00\n",
       "Name: CRSDepTime, Length: 7009728, dtype: object"
      ]
     },
     "execution_count": 12,
     "metadata": {},
     "output_type": "execute_result"
    }
   ],
   "source": [
    "df1['CRSDepTime']"
   ]
  },
  {
   "cell_type": "code",
   "execution_count": null,
   "metadata": {
    "collapsed": true
   },
   "outputs": [],
   "source": []
  }
 ],
 "metadata": {
  "kernelspec": {
   "display_name": "Python 2",
   "language": "python",
   "name": "python2"
  },
  "language_info": {
   "codemirror_mode": {
    "name": "ipython",
    "version": 2
   },
   "file_extension": ".py",
   "mimetype": "text/x-python",
   "name": "python",
   "nbconvert_exporter": "python",
   "pygments_lexer": "ipython2",
   "version": "2.7.13"
  }
 },
 "nbformat": 4,
 "nbformat_minor": 2
}
